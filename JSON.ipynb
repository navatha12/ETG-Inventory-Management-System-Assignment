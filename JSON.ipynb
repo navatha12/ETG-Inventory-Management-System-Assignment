{
  "nbformat": 4,
  "nbformat_minor": 0,
  "metadata": {
    "colab": {
      "name": "JSON.ipynb",
      "provenance": [],
      "collapsed_sections": []
    },
    "kernelspec": {
      "name": "python3",
      "display_name": "Python 3"
    },
    "language_info": {
      "name": "python"
    }
  },
  "cells": [
    {
      "cell_type": "markdown",
      "metadata": {
        "id": "eo3K790yArnI"
      },
      "source": [
        "## Adding new Products"
      ]
    },
    {
      "cell_type": "code",
      "metadata": {
        "id": "Lx84SQIrAymN"
      },
      "source": [
        "import json\n",
        "fd=open(\"records.json\",'r')\n",
        "r=fd.read()\n",
        "fd.close()"
      ],
      "execution_count": 1,
      "outputs": []
    },
    {
      "cell_type": "code",
      "metadata": {
        "colab": {
          "base_uri": "https://localhost:8080/"
        },
        "id": "VnxTSiHiA45x",
        "outputId": "57a92065-9710-42e5-8edb-bfd16f2c34a5"
      },
      "source": [
        "records = json.loads(r)\n",
        "records"
      ],
      "execution_count": 2,
      "outputs": [
        {
          "output_type": "execute_result",
          "data": {
            "text/plain": [
              "{'1001': {'category': 'food',\n",
              "  'name': 'perk',\n",
              "  'price': 10,\n",
              "  'quantity': 100,\n",
              "  'weight': 13},\n",
              " '1002': {'50': 0,\n",
              "  'category': 'food',\n",
              "  'name': 'lays',\n",
              "  'price': 10,\n",
              "  'quantity': 0,\n",
              "  'weight': 167},\n",
              " '1003': {'2': 73,\n",
              "  'category': 'food',\n",
              "  'name': 'icecream',\n",
              "  'price': 200,\n",
              "  'quantity': 75,\n",
              "  'weight': 250},\n",
              " '1004': {'category': 'food',\n",
              "  'name': 'cupcake',\n",
              "  'price': 20,\n",
              "  'quantity': 85,\n",
              "  'weight': 30},\n",
              " '1005': {'5': 15,\n",
              "  'category': 'food',\n",
              "  'name': 'donuts',\n",
              "  'price': 40,\n",
              "  'quantity': 32,\n",
              "  'weight': 50},\n",
              " '1006': {'2': 48,\n",
              "  'category': 'food',\n",
              "  'name': 'coke',\n",
              "  'price': 30,\n",
              "  'quantity': 50,\n",
              "  'weight': 384},\n",
              " '1007': {'category': 'food',\n",
              "  'name': 'doritos',\n",
              "  'price': 30,\n",
              "  'quantity': 85,\n",
              "  'weight': 150},\n",
              " '1008': {'5': 92,\n",
              "  'category': 'food',\n",
              "  'name': 'kurkure',\n",
              "  'price': 20,\n",
              "  'quantity': 97,\n",
              "  'weight': 130},\n",
              " '1009': {'category': 'food',\n",
              "  'name': 'snickers',\n",
              "  'price': 30,\n",
              "  'quantity': 45,\n",
              "  'weight': 200},\n",
              " '1010': {'7': 48,\n",
              "  'category': 'food',\n",
              "  'name': 'hippo',\n",
              "  'price': 10,\n",
              "  'quantity': 55,\n",
              "  'weight': 125},\n",
              " '1011': {'category': 'food',\n",
              "  'name': 'pringles',\n",
              "  'price': 100,\n",
              "  'quantity': 40,\n",
              "  'weight': 300},\n",
              " '1012': {'category': 'food',\n",
              "  'name': 'kisses',\n",
              "  'price': 125,\n",
              "  'quantity': 80,\n",
              "  'weight': 50},\n",
              " '1013': {'category': 'food',\n",
              "  'name': 'kitkat',\n",
              "  'price': 50,\n",
              "  'quantity': 80,\n",
              "  'weight': 15},\n",
              " '1014': {'category': 'food',\n",
              "  'name': 'sprite',\n",
              "  'price': 120,\n",
              "  'quantity': 40,\n",
              "  'weight': 500},\n",
              " '1015': {'category': 'food',\n",
              "  'name': 'mountaindew',\n",
              "  'price': 45,\n",
              "  'quantity': 20,\n",
              "  'weight': 130},\n",
              " '1016': {'category': 'beauty',\n",
              "  'name': 'vaseline',\n",
              "  'price': 135,\n",
              "  'quantity': 40,\n",
              "  'weight': 125},\n",
              " '1017': {'3': 33,\n",
              "  'category': 'beauty',\n",
              "  'name': 'nivea',\n",
              "  'price': 170,\n",
              "  'quantity': 36,\n",
              "  'weight': 125},\n",
              " '1018': {'category': 'eauty',\n",
              "  'name': 'bodyshop',\n",
              "  'price': 600,\n",
              "  'quantity': 15,\n",
              "  'weight': 50},\n",
              " '1019': {'category': 'eauty',\n",
              "  'name': 'lipbalm',\n",
              "  'price': 120,\n",
              "  'quantity': 15,\n",
              "  'weight': 20},\n",
              " '1020': {'category': 'beauty',\n",
              "  'name': 'hairdye',\n",
              "  'price': 45,\n",
              "  'quantity': 95,\n",
              "  'weight': 30},\n",
              " '1021': {'category': 'beauty',\n",
              "  'name': 'oil',\n",
              "  'price': 90,\n",
              "  'quantity': 37,\n",
              "  'weight': 120},\n",
              " '1022': {'category': 'beauty',\n",
              "  'name': 'aloegel',\n",
              "  'price': 200,\n",
              "  'quantity': 15,\n",
              "  'weight': 230},\n",
              " '1023': {'category': 'beauty',\n",
              "  'name': 'deodrent',\n",
              "  'price': 250,\n",
              "  'quantity': 40,\n",
              "  'weight': 150},\n",
              " '1024': {'category': 'beauty',\n",
              "  'name': 'dove',\n",
              "  'price': 300,\n",
              "  'quantity': 75,\n",
              "  'weight': 200},\n",
              " '1025': {'category': 'beauty',\n",
              "  'name': 'lux',\n",
              "  'price': 190,\n",
              "  'quantity': 47,\n",
              "  'weight': 200},\n",
              " '1026': {'category': 'beauty',\n",
              "  'name': 'mist',\n",
              "  'price': 175,\n",
              "  'quantity': 29,\n",
              "  'weight': 75},\n",
              " '1027': {'category': 'beauty',\n",
              "  'name': 'shampoo',\n",
              "  'price': 180,\n",
              "  'quantity': 65,\n",
              "  'weight': 275},\n",
              " '1028': {'category': 'beauty',\n",
              "  'name': 'facetoner',\n",
              "  'price': 175,\n",
              "  'quantity': 39,\n",
              "  'weight': 100},\n",
              " '1029': {'category': 'beauty',\n",
              "  'name': 'faceserum',\n",
              "  'price': 350,\n",
              "  'quantity': 25,\n",
              "  'weight': 65},\n",
              " '1030': {'category': 'beauty',\n",
              "  'name': 'hairserum',\n",
              "  'price': 450,\n",
              "  'quantity': 29,\n",
              "  'weight': 145}}"
            ]
          },
          "metadata": {},
          "execution_count": 2
        }
      ]
    },
    {
      "cell_type": "code",
      "metadata": {
        "colab": {
          "base_uri": "https://localhost:8080/"
        },
        "id": "4aB-Hi2GBEYR",
        "outputId": "0a44e350-ea73-4eea-9149-1c3685564fa6"
      },
      "source": [
        "prod_id=input(\"Enter product id:\")\n",
        "name=input(\"Enter product name:\")\n",
        "price=int(input(\"Enter the price: \"))\n",
        "quantity=int(input(\"Enter the quantity:\"))\n",
        "weight=int(input(\"Enter the weight of the product:\"))\n",
        "category=input(\"Enter product category:\")\n",
        "\n",
        "\n",
        "records[prod_id]={'name':name,'price':price,'quantity':quantity,'weight':weight,'category':category}\n",
        "js=json.dumps(records)\n",
        "fd=open(\"records.json\",'w')\n",
        "fd.write(js)\n",
        "fd.close()"
      ],
      "execution_count": 4,
      "outputs": [
        {
          "name": "stdout",
          "output_type": "stream",
          "text": [
            "Enter product id:1031\n",
            "Enter product name:hersheys\n",
            "Enter the price: 35\n",
            "Enter the quantity:6\n",
            "Enter the weight of the product:380\n",
            "Enter product category:food\n"
          ]
        }
      ]
    },
    {
      "cell_type": "code",
      "metadata": {
        "colab": {
          "base_uri": "https://localhost:8080/"
        },
        "id": "IrJUCKQMBWPI",
        "outputId": "59544e38-8549-4f83-b19a-4279bd5d5281"
      },
      "source": [
        "records"
      ],
      "execution_count": 5,
      "outputs": [
        {
          "output_type": "execute_result",
          "data": {
            "text/plain": [
              "{'1001': {'category': 'food',\n",
              "  'name': 'perk',\n",
              "  'price': 10,\n",
              "  'quantity': 100,\n",
              "  'weight': 13},\n",
              " '1002': {'50': 0,\n",
              "  'category': 'food',\n",
              "  'name': 'lays',\n",
              "  'price': 10,\n",
              "  'quantity': 0,\n",
              "  'weight': 167},\n",
              " '1003': {'2': 73,\n",
              "  'category': 'food',\n",
              "  'name': 'icecream',\n",
              "  'price': 200,\n",
              "  'quantity': 75,\n",
              "  'weight': 250},\n",
              " '1004': {'category': 'food',\n",
              "  'name': 'cupcake',\n",
              "  'price': 20,\n",
              "  'quantity': 85,\n",
              "  'weight': 30},\n",
              " '1005': {'5': 15,\n",
              "  'category': 'food',\n",
              "  'name': 'donuts',\n",
              "  'price': 40,\n",
              "  'quantity': 32,\n",
              "  'weight': 50},\n",
              " '1006': {'2': 48,\n",
              "  'category': 'food',\n",
              "  'name': 'coke',\n",
              "  'price': 30,\n",
              "  'quantity': 50,\n",
              "  'weight': 384},\n",
              " '1007': {'category': 'food',\n",
              "  'name': 'doritos',\n",
              "  'price': 30,\n",
              "  'quantity': 85,\n",
              "  'weight': 150},\n",
              " '1008': {'5': 92,\n",
              "  'category': 'food',\n",
              "  'name': 'kurkure',\n",
              "  'price': 20,\n",
              "  'quantity': 97,\n",
              "  'weight': 130},\n",
              " '1009': {'category': 'food',\n",
              "  'name': 'snickers',\n",
              "  'price': 30,\n",
              "  'quantity': 45,\n",
              "  'weight': 200},\n",
              " '1010': {'7': 48,\n",
              "  'category': 'food',\n",
              "  'name': 'hippo',\n",
              "  'price': 10,\n",
              "  'quantity': 55,\n",
              "  'weight': 125},\n",
              " '1011': {'category': 'food',\n",
              "  'name': 'pringles',\n",
              "  'price': 100,\n",
              "  'quantity': 40,\n",
              "  'weight': 300},\n",
              " '1012': {'category': 'food',\n",
              "  'name': 'kisses',\n",
              "  'price': 125,\n",
              "  'quantity': 80,\n",
              "  'weight': 50},\n",
              " '1013': {'category': 'food',\n",
              "  'name': 'kitkat',\n",
              "  'price': 50,\n",
              "  'quantity': 80,\n",
              "  'weight': 15},\n",
              " '1014': {'category': 'food',\n",
              "  'name': 'sprite',\n",
              "  'price': 120,\n",
              "  'quantity': 40,\n",
              "  'weight': 500},\n",
              " '1015': {'category': 'food',\n",
              "  'name': 'mountaindew',\n",
              "  'price': 45,\n",
              "  'quantity': 20,\n",
              "  'weight': 130},\n",
              " '1016': {'category': 'beauty',\n",
              "  'name': 'vaseline',\n",
              "  'price': 135,\n",
              "  'quantity': 40,\n",
              "  'weight': 125},\n",
              " '1017': {'3': 33,\n",
              "  'category': 'beauty',\n",
              "  'name': 'nivea',\n",
              "  'price': 170,\n",
              "  'quantity': 36,\n",
              "  'weight': 125},\n",
              " '1018': {'category': 'eauty',\n",
              "  'name': 'bodyshop',\n",
              "  'price': 600,\n",
              "  'quantity': 15,\n",
              "  'weight': 50},\n",
              " '1019': {'category': 'eauty',\n",
              "  'name': 'lipbalm',\n",
              "  'price': 120,\n",
              "  'quantity': 15,\n",
              "  'weight': 20},\n",
              " '1020': {'category': 'beauty',\n",
              "  'name': 'hairdye',\n",
              "  'price': 45,\n",
              "  'quantity': 95,\n",
              "  'weight': 30},\n",
              " '1021': {'category': 'beauty',\n",
              "  'name': 'oil',\n",
              "  'price': 90,\n",
              "  'quantity': 37,\n",
              "  'weight': 120},\n",
              " '1022': {'category': 'beauty',\n",
              "  'name': 'aloegel',\n",
              "  'price': 200,\n",
              "  'quantity': 15,\n",
              "  'weight': 230},\n",
              " '1023': {'category': 'beauty',\n",
              "  'name': 'deodrent',\n",
              "  'price': 250,\n",
              "  'quantity': 40,\n",
              "  'weight': 150},\n",
              " '1024': {'category': 'beauty',\n",
              "  'name': 'dove',\n",
              "  'price': 300,\n",
              "  'quantity': 75,\n",
              "  'weight': 200},\n",
              " '1025': {'category': 'beauty',\n",
              "  'name': 'lux',\n",
              "  'price': 190,\n",
              "  'quantity': 47,\n",
              "  'weight': 200},\n",
              " '1026': {'category': 'beauty',\n",
              "  'name': 'mist',\n",
              "  'price': 175,\n",
              "  'quantity': 29,\n",
              "  'weight': 75},\n",
              " '1027': {'category': 'beauty',\n",
              "  'name': 'shampoo',\n",
              "  'price': 180,\n",
              "  'quantity': 65,\n",
              "  'weight': 275},\n",
              " '1028': {'category': 'beauty',\n",
              "  'name': 'facetoner',\n",
              "  'price': 175,\n",
              "  'quantity': 39,\n",
              "  'weight': 100},\n",
              " '1029': {'category': 'beauty',\n",
              "  'name': 'faceserum',\n",
              "  'price': 350,\n",
              "  'quantity': 25,\n",
              "  'weight': 65},\n",
              " '1030': {'category': 'beauty',\n",
              "  'name': 'hairserum',\n",
              "  'price': 450,\n",
              "  'quantity': 29,\n",
              "  'weight': 145},\n",
              " '1031': {'category': 'food',\n",
              "  'name': 'hersheys',\n",
              "  'price': 35,\n",
              "  'quantity': 6,\n",
              "  'weight': 380}}"
            ]
          },
          "metadata": {},
          "execution_count": 5
        }
      ]
    },
    {
      "cell_type": "markdown",
      "metadata": {
        "id": "Q4fCzC6YBnUv"
      },
      "source": [
        "### Code for purchasing"
      ]
    },
    {
      "cell_type": "code",
      "metadata": {
        "colab": {
          "base_uri": "https://localhost:8080/"
        },
        "id": "NRw97sgIBu2R",
        "outputId": "3f9d72f4-2b0b-4387-97c2-43cc7985d588"
      },
      "source": [
        "product_id=input(\"Enter product id to be purchased:\")\n",
        "quant=int(input(\"Enter quantity to be purchased:\"))\n",
        "if(records[product_id]['quantity']>=quant):\n",
        "  billing_amount=records[product_id]['price']*quant\n",
        "  print(\"category\",records[product_id]['category'])\n",
        "  print(\"name\",records[product_id]['name'])\n",
        "  print(\"billing amount\",billing_amount)\n",
        "  new_quantity=records[product_id]['quantity']-quant\n",
        "  records[product_id]['quantity']=new_quantity\n",
        "  print(\"available quantity\",new_quantity)\n",
        "else:\n",
        "  print(\"Sorry not Available\")\n",
        "  js=json.dumps(records)\n",
        "  fd=open(\"records.json\",'w')\n",
        "  fd.write(js)\n",
        "  fd.close()"
      ],
      "execution_count": 64,
      "outputs": [
        {
          "output_type": "stream",
          "name": "stdout",
          "text": [
            "Enter product id to be purchased:1009\n",
            "Enter quantity to be purchased:10\n",
            "category food\n",
            "name snickers\n",
            "billing amount 300\n",
            "available quantity 35\n"
          ]
        }
      ]
    },
    {
      "cell_type": "markdown",
      "metadata": {
        "id": "qyEGDrYvCMoo"
      },
      "source": [
        "### Sales"
      ]
    },
    {
      "cell_type": "code",
      "metadata": {
        "id": "Qu2TJ_wWDIn4"
      },
      "source": [
        "sales={uid:{'id':product_id,'qn':quant,'amt':billing_amount}}"
      ],
      "execution_count": 46,
      "outputs": []
    },
    {
      "cell_type": "code",
      "metadata": {
        "id": "Rzi0rjJcIinj"
      },
      "source": [
        "uid=2001"
      ],
      "execution_count": 47,
      "outputs": []
    },
    {
      "cell_type": "code",
      "metadata": {
        "id": "oFyietE4Ijjl"
      },
      "source": [
        "uid=uid+1\n",
        "sales[uid]={'id':product_id,'qn':quant,'amt':billing_amount}"
      ],
      "execution_count": 65,
      "outputs": []
    },
    {
      "cell_type": "code",
      "metadata": {
        "id": "HRZ3bYM1IoCW"
      },
      "source": [
        "sale=json.dumps(sales)\n",
        "fd=open('sale.json','a')\n",
        "fd.write(sale)\n",
        "fd.close()"
      ],
      "execution_count": 66,
      "outputs": []
    },
    {
      "cell_type": "code",
      "metadata": {
        "colab": {
          "base_uri": "https://localhost:8080/"
        },
        "id": "IXYZ5AxIItdU",
        "outputId": "a65a2706-6be9-4cc1-f123-12aa5a5de298"
      },
      "source": [
        "sales"
      ],
      "execution_count": 67,
      "outputs": [
        {
          "output_type": "execute_result",
          "data": {
            "text/plain": [
              "{2001: {'amt': 1400, 'id': '1011', 'qn': 14},\n",
              " 2002: {'amt': 1400, 'id': '1011', 'qn': 14},\n",
              " 2003: {'amt': 1400, 'id': '1022', 'qn': 21},\n",
              " 2004: {'amt': 450, 'id': '1007', 'qn': 15},\n",
              " 2005: {'amt': 330, 'id': '1007', 'qn': 11},\n",
              " 2006: {'amt': 300, 'id': '1009', 'qn': 10}}"
            ]
          },
          "metadata": {},
          "execution_count": 67
        }
      ]
    },
    {
      "cell_type": "markdown",
      "metadata": {
        "id": "pLC-09IEJzAd"
      },
      "source": [
        "### Code for updating inventory"
      ]
    },
    {
      "cell_type": "code",
      "metadata": {
        "colab": {
          "base_uri": "https://localhost:8080/"
        },
        "id": "G6wMjmibJxX4",
        "outputId": "43fce034-0b14-4d0c-8320-a0c15a98dc11"
      },
      "source": [
        "product_id=input(\"Enter product_id to be updated:\")\n",
        "quantity=int(input(\"Enter quantity to be updated:\"))\n",
        "print(\"updated product details\")\n",
        "print(\"name\",records[product_id]['name'])\n",
        "print(\"old quantity:\",records[product_id]['quantity'])\n",
        "b=records[product_id]['quantity']+quantity\n",
        "records[product_id]['quantity']=b\n",
        "print(\"new quantity:\",records[product_id]['quantity'])\n",
        "print(\"category\",records[product_id]['category'])\n",
        "\n",
        "\n",
        "js=json.dumps(records)\n",
        "fd=open('records.json','w')\n",
        "fd.write(js)\n",
        "fd.close()"
      ],
      "execution_count": 68,
      "outputs": [
        {
          "output_type": "stream",
          "name": "stdout",
          "text": [
            "Enter product_id to be updated:1005\n",
            "Enter quantity to be updated:12\n",
            "updated product details\n",
            "name donuts\n",
            "old quantity: 32\n",
            "new quantity: 44\n",
            "category food\n"
          ]
        }
      ]
    },
    {
      "cell_type": "code",
      "metadata": {
        "id": "HhAbK_kIJ-0f"
      },
      "source": [
        ""
      ],
      "execution_count": null,
      "outputs": []
    }
  ]
}